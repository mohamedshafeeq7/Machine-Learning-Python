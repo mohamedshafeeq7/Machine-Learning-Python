{
  "nbformat": 4,
  "nbformat_minor": 0,
  "metadata": {
    "colab": {
      "provenance": []
    },
    "kernelspec": {
      "name": "python3",
      "display_name": "Python 3"
    },
    "language_info": {
      "name": "python"
    }
  },
  "cells": [
    {
      "cell_type": "code",
      "execution_count": 17,
      "metadata": {
        "colab": {
          "base_uri": "https://localhost:8080/",
          "height": 755
        },
        "id": "CMjP_N5iamOq",
        "outputId": "ed8d159e-bf3e-4542-c802-9dadde60f5ce"
      },
      "outputs": [
        {
          "output_type": "stream",
          "name": "stdout",
          "text": [
            "Accuracy: 0.8628318584070797\n",
            "Classification Report:\n",
            "              precision    recall  f1-score   support\n",
            "\n",
            "           0       0.87      0.99      0.93       581\n",
            "           1       0.64      0.09      0.16        97\n",
            "\n",
            "    accuracy                           0.86       678\n",
            "   macro avg       0.76      0.54      0.54       678\n",
            "weighted avg       0.84      0.86      0.82       678\n",
            "\n"
          ]
        },
        {
          "output_type": "display_data",
          "data": {
            "text/plain": [
              "<Figure size 800x600 with 2 Axes>"
            ],
            "image/png": "[encoded data removed]"
          },
          "metadata": {}
        }
      ],
      "source": [
        "import pandas as pd\n",
        "from sklearn.model_selection import train_test_split\n",
        "from sklearn.linear_model import LogisticRegression\n",
        "from sklearn.metrics import accuracy_score, classification_report, confusion_matrix\n",
        "from sklearn.preprocessing import StandardScaler\n",
        "import matplotlib.pyplot as plt\n",
        "import seaborn as sns\n",
        "\n",
        "# Load the dataset from a file\n",
        "data = pd.read_csv('/content/cleaned_framingham.csv')\n",
        "\n",
        "# Extracting features and target variable\n",
        "X = data.drop('TenYearCHD', axis=1)\n",
        "y = data['TenYearCHD']\n",
        "\n",
        "# Splitting the dataset into training and testing sets\n",
        "X_train, X_test, y_train, y_test = train_test_split(X, y, test_size=0.2, random_state=42)\n",
        "\n",
        "# Standardize the features (optional but recommended for logistic regression)\n",
        "scaler = StandardScaler()\n",
        "X_train_scaled = scaler.fit_transform(X_train)\n",
        "X_test_scaled = scaler.transform(X_test)\n",
        "\n",
        "# Creating and fitting the logistic regression model\n",
        "model = LogisticRegression()\n",
        "model.fit(X_train_scaled, y_train)\n",
        "\n",
        "# Making predictions on the testing set\n",
        "y_pred = model.predict(X_test_scaled)\n",
        "\n",
        "# Evaluating the model\n",
        "accuracy = accuracy_score(y_test, y_pred)\n",
        "print(\"Accuracy:\", accuracy)\n",
        "\n",
        "# Printing classification report\n",
        "print(\"Classification Report:\")\n",
        "print(classification_report(y_test, y_pred))\n",
        "\n",
        "# Calculate confusion matrix\n",
        "conf_matrix = confusion_matrix(y_test, y_pred)\n",
        "\n",
        "# Plot confusion matrix heatmap\n",
        "plt.figure(figsize=(8, 6))\n",
        "sns.heatmap(conf_matrix, annot=True, fmt='d', cmap='Blues',\n",
        "            xticklabels=['Predicted Negative', 'Predicted Positive'],\n",
        "            yticklabels=['Actual Negative', 'Actual Positive'])\n",
        "plt.xlabel('Predicted label')\n",
        "plt.ylabel('True label')\n",
        "plt.title('Confusion Matrix Heatmap')\n",
        "plt.show()\n"
      ]
    },
    {
      "cell_type": "code",
      "source": [
        "import pandas as pd\n",
        "\n",
        "# Load the dataset\n",
        "dataset_path = '/content/framingham.csv'\n",
        "data = pd.read_csv(dataset_path)\n",
        "\n",
        "# Display the first few rows of the dataset\n",
        "print(\"Original dataset:\")\n",
        "print(data.head())\n",
        "\n",
        "# Check for missing values\n",
        "print(\"\\nMissing values:\")\n",
        "print(data.isnull().sum())\n",
        "\n",
        "# Handling missing values\n",
        "# Drop rows with missing values\n",
        "data.dropna(inplace=True)\n",
        "\n",
        "# Remove duplicate rows\n",
        "data.drop_duplicates(inplace=True)\n",
        "\n",
        "# Handling outliers (if necessary)\n",
        "# For example, if you want to remove outliers in the 'age' column\n",
        "# Define the upper and lower bounds for acceptable values\n",
        "upper_bound = data['age'].quantile(0.95)\n",
        "lower_bound = data['age'].quantile(0.05)\n",
        "# Remove rows where 'age' is outside the acceptable range\n",
        "data = data[(data['age'] >= lower_bound) & (data['age'] <= upper_bound)]\n",
        "\n",
        "# Convert data types (if necessary)\n",
        "# For example, converting 'age' column to integer\n",
        "data['age'] = data['age'].astype(int)\n",
        "\n",
        "# Save the cleaned dataset to a new CSV file\n",
        "cleaned_dataset_path = '/content/cleaned_framingham.csv'\n",
        "data.to_csv(cleaned_dataset_path, index=False)\n",
        "\n",
        "# Display the cleaned dataset\n",
        "print(\"\\nCleaned dataset:\")\n",
        "print(data.head())\n"
      ],
      "metadata": {
        "colab": {
          "base_uri": "https://localhost:8080/"
        },
        "id": "Agqlt-RCesI3",
        "outputId": "dc125ca1-765f-4d90-d39f-8517afdc2b52"
      },
      "execution_count": 14,
      "outputs": [
        {
          "output_type": "stream",
          "name": "stdout",
          "text": [
            "Original dataset:\n",
            "   male  age  education  currentSmoker  cigsPerDay  BPMeds  prevalentStroke  \\\n",
            "0     1   39        4.0              0         0.0     0.0                0   \n",
            "1     0   46        2.0              0         0.0     0.0                0   \n",
            "2     1   48        1.0              1        20.0     0.0                0   \n",
            "3     0   61        3.0              1        30.0     0.0                0   \n",
            "4     0   46        3.0              1        23.0     0.0                0   \n",
            "\n",
            "   prevalentHyp  diabetes  totChol  sysBP  diaBP    BMI  heartRate  glucose  \\\n",
            "0             0         0    195.0  106.0   70.0  26.97       80.0     77.0   \n",
            "1             0         0    250.0  121.0   81.0  28.73       95.0     76.0   \n",
            "2             0         0    245.0  127.5   80.0  25.34       75.0     70.0   \n",
            "3             1         0    225.0  150.0   95.0  28.58       65.0    103.0   \n",
            "4             0         0    285.0  130.0   84.0  23.10       85.0     85.0   \n",
            "\n",
            "   TenYearCHD  \n",
            "0           0  \n",
            "1           0  \n",
            "2           0  \n",
            "3           1  \n",
            "4           0  \n",
            "\n",
            "Missing values:\n",
            "male                 0\n",
            "age                  0\n",
            "education          105\n",
            "currentSmoker        0\n",
            "cigsPerDay          29\n",
            "BPMeds              53\n",
            "prevalentStroke      0\n",
            "prevalentHyp         0\n",
            "diabetes             0\n",
            "totChol             50\n",
            "sysBP                0\n",
            "diaBP                0\n",
            "BMI                 19\n",
            "heartRate            1\n",
            "glucose            388\n",
            "TenYearCHD           0\n",
            "dtype: int64\n",
            "\n",
            "Cleaned dataset:\n",
            "   male  age  education  currentSmoker  cigsPerDay  BPMeds  prevalentStroke  \\\n",
            "0     1   39        4.0              0         0.0     0.0                0   \n",
            "1     0   46        2.0              0         0.0     0.0                0   \n",
            "2     1   48        1.0              1        20.0     0.0                0   \n",
            "3     0   61        3.0              1        30.0     0.0                0   \n",
            "4     0   46        3.0              1        23.0     0.0                0   \n",
            "\n",
            "   prevalentHyp  diabetes  totChol  sysBP  diaBP    BMI  heartRate  glucose  \\\n",
            "0             0         0    195.0  106.0   70.0  26.97       80.0     77.0   \n",
            "1             0         0    250.0  121.0   81.0  28.73       95.0     76.0   \n",
            "2             0         0    245.0  127.5   80.0  25.34       75.0     70.0   \n",
            "3             1         0    225.0  150.0   95.0  28.58       65.0    103.0   \n",
            "4             0         0    285.0  130.0   84.0  23.10       85.0     85.0   \n",
            "\n",
            "   TenYearCHD  \n",
            "0           0  \n",
            "1           0  \n",
            "2           0  \n",
            "3           1  \n",
            "4           0  \n"
          ]
        }
      ]
    }
  ]
}